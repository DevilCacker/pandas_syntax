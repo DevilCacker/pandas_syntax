{
 "cells": [
  {
   "cell_type": "code",
   "execution_count": 2,
   "id": "be67e626-9fa8-4442-857a-09f0312bcea5",
   "metadata": {},
   "outputs": [],
   "source": [
    "import numpy as np \n",
    "import pandas as pd"
   ]
  },
  {
   "cell_type": "code",
   "execution_count": 3,
   "id": "fa72cabd-7b8e-4a54-87a8-31033c6551c9",
   "metadata": {},
   "outputs": [],
   "source": [
    "df=pd.read_csv(\"C:\\\\Users\\\\ykmi1\\\\Downloads\\\\Companies Details.csv\")"
   ]
  },
  {
   "cell_type": "markdown",
   "id": "cb5ff3de-81d5-482c-889b-a87744808b4d",
   "metadata": {},
   "source": [
    "csv,text,tsv\n",
    "comma separted values \n",
    "tab separted values "
   ]
  },
  {
   "cell_type": "code",
   "execution_count": 4,
   "id": "4a48258b-052e-43a0-b896-4e8a3c7d3558",
   "metadata": {},
   "outputs": [
    {
     "data": {
      "text/html": [
       "<div>\n",
       "<style scoped>\n",
       "    .dataframe tbody tr th:only-of-type {\n",
       "        vertical-align: middle;\n",
       "    }\n",
       "\n",
       "    .dataframe tbody tr th {\n",
       "        vertical-align: top;\n",
       "    }\n",
       "\n",
       "    .dataframe thead th {\n",
       "        text-align: right;\n",
       "    }\n",
       "</style>\n",
       "<table border=\"1\" class=\"dataframe\">\n",
       "  <thead>\n",
       "    <tr style=\"text-align: right;\">\n",
       "      <th></th>\n",
       "      <th>Role</th>\n",
       "      <th>Company</th>\n",
       "      <th>Location</th>\n",
       "      <th>Mail ID</th>\n",
       "      <th>Contact No</th>\n",
       "    </tr>\n",
       "  </thead>\n",
       "  <tbody>\n",
       "    <tr>\n",
       "      <th>0</th>\n",
       "      <td>Analy</td>\n",
       "      <td>Sutherland Global Services</td>\n",
       "      <td>Balaji Nagar, Chennai</td>\n",
       "      <td>pa.narasimhan@sutherlandglobal.com</td>\n",
       "      <td>044 4391 7884 , +91-44-7101-7886</td>\n",
       "    </tr>\n",
       "    <tr>\n",
       "      <th>1</th>\n",
       "      <td>Analy</td>\n",
       "      <td>Cholamandalam Investment and Finance company</td>\n",
       "      <td>Guindy, Chennai</td>\n",
       "      <td>corporatecommunications@ chola.murugappa.com</td>\n",
       "      <td>044 - 40906114 , 04439873000</td>\n",
       "    </tr>\n",
       "    <tr>\n",
       "      <th>2</th>\n",
       "      <td>Analy</td>\n",
       "      <td>Societe generale</td>\n",
       "      <td>Manapakkam, Chennai</td>\n",
       "      <td>gsc-cs-compliance@socgen.com</td>\n",
       "      <td>91 4466027000</td>\n",
       "    </tr>\n",
       "    <tr>\n",
       "      <th>3</th>\n",
       "      <td>Analy</td>\n",
       "      <td>Scope e-knowledge center</td>\n",
       "      <td>Nandambakkam , Chennai</td>\n",
       "      <td>stm-ks@scopeknowledge.com</td>\n",
       "      <td>91 4424314201</td>\n",
       "    </tr>\n",
       "    <tr>\n",
       "      <th>4</th>\n",
       "      <td>Analy</td>\n",
       "      <td>Hexwawares Technologies</td>\n",
       "      <td>SIPCOT IT Park , Chennai</td>\n",
       "      <td>marketing@hexaware.com</td>\n",
       "      <td>91 02267919595 , 044-47451000</td>\n",
       "    </tr>\n",
       "  </tbody>\n",
       "</table>\n",
       "</div>"
      ],
      "text/plain": [
       "    Role                                       Company  \\\n",
       "0  Analy                    Sutherland Global Services   \n",
       "1  Analy  Cholamandalam Investment and Finance company   \n",
       "2  Analy                              Societe generale   \n",
       "3  Analy                      Scope e-knowledge center   \n",
       "4  Analy                       Hexwawares Technologies   \n",
       "\n",
       "                   Location                                       Mail ID  \\\n",
       "0     Balaji Nagar, Chennai            pa.narasimhan@sutherlandglobal.com   \n",
       "1           Guindy, Chennai  corporatecommunications@ chola.murugappa.com   \n",
       "2       Manapakkam, Chennai                  gsc-cs-compliance@socgen.com   \n",
       "3    Nandambakkam , Chennai                     stm-ks@scopeknowledge.com   \n",
       "4  SIPCOT IT Park , Chennai                        marketing@hexaware.com   \n",
       "\n",
       "                         Contact No  \n",
       "0  044 4391 7884 , +91-44-7101-7886  \n",
       "1      044 - 40906114 , 04439873000  \n",
       "2                     91 4466027000  \n",
       "3                     91 4424314201  \n",
       "4     91 02267919595 , 044-47451000  "
      ]
     },
     "execution_count": 4,
     "metadata": {},
     "output_type": "execute_result"
    }
   ],
   "source": [
    "df.head(5)"
   ]
  },
  {
   "cell_type": "code",
   "execution_count": 5,
   "id": "60ce2579-4a63-4c9d-b5ab-3c330229ea73",
   "metadata": {},
   "outputs": [
    {
     "data": {
      "text/html": [
       "<div>\n",
       "<style scoped>\n",
       "    .dataframe tbody tr th:only-of-type {\n",
       "        vertical-align: middle;\n",
       "    }\n",
       "\n",
       "    .dataframe tbody tr th {\n",
       "        vertical-align: top;\n",
       "    }\n",
       "\n",
       "    .dataframe thead th {\n",
       "        text-align: right;\n",
       "    }\n",
       "</style>\n",
       "<table border=\"1\" class=\"dataframe\">\n",
       "  <thead>\n",
       "    <tr style=\"text-align: right;\">\n",
       "      <th></th>\n",
       "      <th>Role</th>\n",
       "      <th>Company</th>\n",
       "      <th>Location</th>\n",
       "      <th>Mail ID</th>\n",
       "      <th>Contact No</th>\n",
       "    </tr>\n",
       "  </thead>\n",
       "  <tbody>\n",
       "    <tr>\n",
       "      <th>55</th>\n",
       "      <td>PY</td>\n",
       "      <td>Appadore</td>\n",
       "      <td>Cochin, Kerala</td>\n",
       "      <td>info@appadore.com</td>\n",
       "      <td>NaN</td>\n",
       "    </tr>\n",
       "    <tr>\n",
       "      <th>56</th>\n",
       "      <td>PY</td>\n",
       "      <td>Newt global</td>\n",
       "      <td>Gandhi Salai, Chennai</td>\n",
       "      <td>info@newtglobal.com</td>\n",
       "      <td>044 6740 2999 , 972 887 3159</td>\n",
       "    </tr>\n",
       "    <tr>\n",
       "      <th>57</th>\n",
       "      <td>PY</td>\n",
       "      <td>Valiant Systems</td>\n",
       "      <td>Porur, Chennai</td>\n",
       "      <td>info@valiantsystems.com</td>\n",
       "      <td>96000 44464, 91 99401 81721</td>\n",
       "    </tr>\n",
       "    <tr>\n",
       "      <th>58</th>\n",
       "      <td>PY</td>\n",
       "      <td>Surya Informatics</td>\n",
       "      <td>Ashok Nagar, Chennai</td>\n",
       "      <td>careers@suryainformatics.com</td>\n",
       "      <td>044 4203 3355</td>\n",
       "    </tr>\n",
       "    <tr>\n",
       "      <th>59</th>\n",
       "      <td>PY</td>\n",
       "      <td>Logic Soft</td>\n",
       "      <td>Gopalapuram, Chennai</td>\n",
       "      <td>shrayasr@logicsoft.co.in</td>\n",
       "      <td>044 4208 9492 / 93</td>\n",
       "    </tr>\n",
       "  </tbody>\n",
       "</table>\n",
       "</div>"
      ],
      "text/plain": [
       "   Role            Company               Location  \\\n",
       "55   PY           Appadore         Cochin, Kerala   \n",
       "56   PY       Newt global   Gandhi Salai, Chennai   \n",
       "57   PY    Valiant Systems         Porur, Chennai   \n",
       "58   PY  Surya Informatics   Ashok Nagar, Chennai   \n",
       "59   PY         Logic Soft   Gopalapuram, Chennai   \n",
       "\n",
       "                         Mail ID                    Contact No  \n",
       "55             info@appadore.com                           NaN  \n",
       "56           info@newtglobal.com  044 6740 2999 , 972 887 3159  \n",
       "57       info@valiantsystems.com   96000 44464, 91 99401 81721  \n",
       "58  careers@suryainformatics.com                 044 4203 3355  \n",
       "59      shrayasr@logicsoft.co.in            044 4208 9492 / 93  "
      ]
     },
     "execution_count": 5,
     "metadata": {},
     "output_type": "execute_result"
    }
   ],
   "source": [
    "df.tail(5)"
   ]
  },
  {
   "cell_type": "code",
   "execution_count": 6,
   "id": "b3c89f35-6903-4bea-84b5-7a8f8c11d005",
   "metadata": {},
   "outputs": [
    {
     "data": {
      "text/html": [
       "<div>\n",
       "<style scoped>\n",
       "    .dataframe tbody tr th:only-of-type {\n",
       "        vertical-align: middle;\n",
       "    }\n",
       "\n",
       "    .dataframe tbody tr th {\n",
       "        vertical-align: top;\n",
       "    }\n",
       "\n",
       "    .dataframe thead th {\n",
       "        text-align: right;\n",
       "    }\n",
       "</style>\n",
       "<table border=\"1\" class=\"dataframe\">\n",
       "  <thead>\n",
       "    <tr style=\"text-align: right;\">\n",
       "      <th></th>\n",
       "      <th>Role</th>\n",
       "      <th>Company</th>\n",
       "      <th>Location</th>\n",
       "      <th>Mail ID</th>\n",
       "      <th>Contact No</th>\n",
       "    </tr>\n",
       "  </thead>\n",
       "  <tbody>\n",
       "    <tr>\n",
       "      <th>8</th>\n",
       "      <td>Analy</td>\n",
       "      <td>Ramco systems</td>\n",
       "      <td>Tharamani, Chennai</td>\n",
       "      <td>contact@ramco.com</td>\n",
       "      <td>91 44 2235 4510 , 91 44 6653 4000</td>\n",
       "    </tr>\n",
       "    <tr>\n",
       "      <th>24</th>\n",
       "      <td>DA</td>\n",
       "      <td>Inautix Technologies</td>\n",
       "      <td>Taramani,Chennai</td>\n",
       "      <td>CAREERS@INAUTIX.COM , contact@connect2India.com</td>\n",
       "      <td>044 2254 6000</td>\n",
       "    </tr>\n",
       "    <tr>\n",
       "      <th>34</th>\n",
       "      <td>DA&amp;Vis</td>\n",
       "      <td>Deloitte</td>\n",
       "      <td>T-nagar,Chennai</td>\n",
       "      <td>usindiaogc@deloitte.com</td>\n",
       "      <td>91 44 6688 5000</td>\n",
       "    </tr>\n",
       "    <tr>\n",
       "      <th>5</th>\n",
       "      <td>Analy</td>\n",
       "      <td>Latent view Analytics</td>\n",
       "      <td>Tharamani, Chennai</td>\n",
       "      <td>info@latentview.com</td>\n",
       "      <td>044 4344 1700</td>\n",
       "    </tr>\n",
       "  </tbody>\n",
       "</table>\n",
       "</div>"
      ],
      "text/plain": [
       "      Role                Company            Location  \\\n",
       "8    Analy          Ramco systems  Tharamani, Chennai   \n",
       "24      DA   Inautix Technologies    Taramani,Chennai   \n",
       "34  DA&Vis               Deloitte     T-nagar,Chennai   \n",
       "5    Analy  Latent view Analytics  Tharamani, Chennai   \n",
       "\n",
       "                                            Mail ID  \\\n",
       "8                                 contact@ramco.com   \n",
       "24  CAREERS@INAUTIX.COM , contact@connect2India.com   \n",
       "34                          usindiaogc@deloitte.com   \n",
       "5                               info@latentview.com   \n",
       "\n",
       "                           Contact No  \n",
       "8   91 44 2235 4510 , 91 44 6653 4000  \n",
       "24                      044 2254 6000  \n",
       "34                    91 44 6688 5000  \n",
       "5                       044 4344 1700  "
      ]
     },
     "execution_count": 6,
     "metadata": {},
     "output_type": "execute_result"
    }
   ],
   "source": [
    "df.sample(4)"
   ]
  },
  {
   "cell_type": "code",
   "execution_count": 7,
   "id": "979ebebd-9f7c-4de3-8ba9-10055f6d8cbf",
   "metadata": {},
   "outputs": [
    {
     "data": {
      "text/plain": [
       "(60, 5)"
      ]
     },
     "execution_count": 7,
     "metadata": {},
     "output_type": "execute_result"
    }
   ],
   "source": [
    "df.shape"
   ]
  },
  {
   "cell_type": "code",
   "execution_count": 8,
   "id": "d1100307-14b4-4339-b96b-c5fd14cfa75c",
   "metadata": {},
   "outputs": [],
   "source": [
    "f=df.sample(4)[\"Location\"]"
   ]
  },
  {
   "cell_type": "code",
   "execution_count": 9,
   "id": "bb525e8f-31e6-4fb5-9c63-bb79344c38ae",
   "metadata": {},
   "outputs": [
    {
     "name": "stdout",
     "output_type": "stream",
     "text": [
      "4\n",
      "6\n"
     ]
    }
   ],
   "source": [
    "ML = 0\n",
    "DS = 0\n",
    "for i in df[\"Role\"]:\n",
    "    if i == \"DS&DA\":\n",
    "        DS+=1\n",
    "    elif i == \"DA&ML\":\n",
    "        ML+=1\n",
    "print(ML)\n",
    "print(DS)"
   ]
  },
  {
   "cell_type": "code",
   "execution_count": 10,
   "id": "14954d54-d59c-4eea-9ed9-c535827cfae9",
   "metadata": {},
   "outputs": [],
   "source": [
    "arr=np.array(f)"
   ]
  },
  {
   "cell_type": "code",
   "execution_count": 11,
   "id": "b6d1468e-7f4d-4e91-97fe-d8e82b957089",
   "metadata": {},
   "outputs": [
    {
     "data": {
      "text/plain": [
       "array(['Tharamani, Chennai', 'Sholinganallur, Chennai', nan,\n",
       "       'Perungudi, OMR, Chennai'], dtype=object)"
      ]
     },
     "execution_count": 11,
     "metadata": {},
     "output_type": "execute_result"
    }
   ],
   "source": [
    "arr"
   ]
  },
  {
   "cell_type": "code",
   "execution_count": 12,
   "id": "14ca790d-d293-4eac-82a1-f8c8dd34c383",
   "metadata": {},
   "outputs": [
    {
     "ename": "SyntaxError",
     "evalue": "(unicode error) 'unicodeescape' codec can't decode bytes in position 2-3: truncated \\UXXXXXXXX escape (1368525154.py, line 1)",
     "output_type": "error",
     "traceback": [
      "\u001b[1;36m  Cell \u001b[1;32mIn[12], line 1\u001b[1;36m\u001b[0m\n\u001b[1;33m    \"C:\\Users\\ykmi1\\OneDrive\\Desktop\\Iris.csv\"\u001b[0m\n\u001b[1;37m                                              ^\u001b[0m\n\u001b[1;31mSyntaxError\u001b[0m\u001b[1;31m:\u001b[0m (unicode error) 'unicodeescape' codec can't decode bytes in position 2-3: truncated \\UXXXXXXXX escape\n"
     ]
    }
   ],
   "source": [
    "\"C:\\Users\\ykmi1\\OneDrive\\Desktop\\Iris.csv\""
   ]
  },
  {
   "cell_type": "code",
   "execution_count": null,
   "id": "d82e60e9-38f2-4609-9e56-0602ce1399af",
   "metadata": {},
   "outputs": [],
   "source": [
    "df=pd.read_csv(r\"C:\\Users\\ykmi1\\OneDrive\\Desktop\\Iris.csv\")"
   ]
  },
  {
   "cell_type": "code",
   "execution_count": null,
   "id": "ad8c6317-3060-4db3-9514-cac643774d9c",
   "metadata": {},
   "outputs": [],
   "source": [
    "df.sample(10)"
   ]
  },
  {
   "cell_type": "code",
   "execution_count": 19,
   "id": "187049f6-32bf-427a-b115-5da660437820",
   "metadata": {},
   "outputs": [
    {
     "data": {
      "text/plain": [
       "Location\n",
       "Sholinganallur, Chennai              9\n",
       "Tharamani, Chennai                   8\n",
       "Perungudi, Chennai                   4\n",
       "Guindy, Chennai                      3\n",
       "T. Nagar, Chennai                    2\n",
       "Manapakkam,Chennai                   2\n",
       "Nungambakkam, Chennai                2\n",
       "Porur, Chennai                       2\n",
       "Balaji Nagar, Chennai                1\n",
       "Navalur, Chennai                     1\n",
       "Perungudi, OMR, Chennai              1\n",
       "EPIP Zone, Bengaluru                 1\n",
       "Brookefield, Bengaluru               1\n",
       "Saligramam, Chennai                  1\n",
       "T-nagar,Chennai                      1\n",
       " Aminjikarai, Chennai                1\n",
       "Tambaram, Chennai                    1\n",
       "Cochin, Kerala                       1\n",
       "Gandhi Salai, Chennai                1\n",
       "Ashok Nagar, Chennai                 1\n",
       "Velachery, Chennai                   1\n",
       "Taramani,Chennai                     1\n",
       "Karapakkam, Chennai                  1\n",
       "Pune                                 1\n",
       "Vallancherry, Taluk, Chengalpattu    1\n",
       "Royapettah, Chennai                  1\n",
       "Ramapuram, Chennai                   1\n",
       "Perungudi, Guindy,  Chennai          1\n",
       "Perungalathur Chennai                1\n",
       "Mylapore, Chennai                    1\n",
       "Hyderabad, Telangana                 1\n",
       "SIPCOT IT Park , Chennai             1\n",
       "Nandambakkam , Chennai               1\n",
       "Manapakkam, Chennai                  1\n",
       "Gopalapuram, Chennai                 1\n",
       "Name: count, dtype: int64"
      ]
     },
     "execution_count": 19,
     "metadata": {},
     "output_type": "execute_result"
    }
   ],
   "source": [
    "df['Location'].value_counts()"
   ]
  },
  {
   "cell_type": "code",
   "execution_count": null,
   "id": "c273b7db-26ce-492a-bd32-3ca51ef5e178",
   "metadata": {},
   "outputs": [],
   "source": [
    "df['SepalWidthCm'].max()"
   ]
  },
  {
   "cell_type": "code",
   "execution_count": 14,
   "id": "a67ed44d-d7d4-43a6-bf67-abbf7c08e061",
   "metadata": {},
   "outputs": [
    {
     "data": {
      "text/html": [
       "<div>\n",
       "<style scoped>\n",
       "    .dataframe tbody tr th:only-of-type {\n",
       "        vertical-align: middle;\n",
       "    }\n",
       "\n",
       "    .dataframe tbody tr th {\n",
       "        vertical-align: top;\n",
       "    }\n",
       "\n",
       "    .dataframe thead th {\n",
       "        text-align: right;\n",
       "    }\n",
       "</style>\n",
       "<table border=\"1\" class=\"dataframe\">\n",
       "  <thead>\n",
       "    <tr style=\"text-align: right;\">\n",
       "      <th></th>\n",
       "      <th>Role</th>\n",
       "      <th>Company</th>\n",
       "      <th>Location</th>\n",
       "      <th>Mail ID</th>\n",
       "      <th>Contact No</th>\n",
       "    </tr>\n",
       "  </thead>\n",
       "  <tbody>\n",
       "    <tr>\n",
       "      <th>count</th>\n",
       "      <td>60</td>\n",
       "      <td>60</td>\n",
       "      <td>59</td>\n",
       "      <td>59</td>\n",
       "      <td>57</td>\n",
       "    </tr>\n",
       "    <tr>\n",
       "      <th>unique</th>\n",
       "      <td>13</td>\n",
       "      <td>60</td>\n",
       "      <td>35</td>\n",
       "      <td>59</td>\n",
       "      <td>57</td>\n",
       "    </tr>\n",
       "    <tr>\n",
       "      <th>top</th>\n",
       "      <td>DA</td>\n",
       "      <td>Sutherland Global Services</td>\n",
       "      <td>Sholinganallur, Chennai</td>\n",
       "      <td>pa.narasimhan@sutherlandglobal.com</td>\n",
       "      <td>044 4391 7884 , +91-44-7101-7886</td>\n",
       "    </tr>\n",
       "    <tr>\n",
       "      <th>freq</th>\n",
       "      <td>18</td>\n",
       "      <td>1</td>\n",
       "      <td>9</td>\n",
       "      <td>1</td>\n",
       "      <td>1</td>\n",
       "    </tr>\n",
       "  </tbody>\n",
       "</table>\n",
       "</div>"
      ],
      "text/plain": [
       "       Role                     Company                 Location  \\\n",
       "count    60                          60                       59   \n",
       "unique   13                          60                       35   \n",
       "top      DA  Sutherland Global Services  Sholinganallur, Chennai   \n",
       "freq     18                           1                        9   \n",
       "\n",
       "                                   Mail ID                        Contact No  \n",
       "count                                   59                                57  \n",
       "unique                                  59                                57  \n",
       "top     pa.narasimhan@sutherlandglobal.com  044 4391 7884 , +91-44-7101-7886  \n",
       "freq                                     1                                 1  "
      ]
     },
     "execution_count": 14,
     "metadata": {},
     "output_type": "execute_result"
    }
   ],
   "source": [
    "df.describe()"
   ]
  },
  {
   "cell_type": "code",
   "execution_count": null,
   "id": "cc30b024-39c0-49dd-8558-c24803893ccf",
   "metadata": {},
   "outputs": [],
   "source": [
    "df.describe(include='all')"
   ]
  },
  {
   "cell_type": "markdown",
   "id": "0623024a-7ee4-46ee-aa08-c11a48f348c0",
   "metadata": {},
   "source": [
    "slicing in pandas \n",
    "lock=labled based\n",
    "ilock=\"i\" stds for index based"
   ]
  },
  {
   "cell_type": "code",
   "execution_count": null,
   "id": "10400a5e-5ff9-4df9-bbba-b2d4936af346",
   "metadata": {},
   "outputs": [],
   "source": [
    "df\n"
   ]
  },
  {
   "cell_type": "code",
   "execution_count": null,
   "id": "f1914333-2e4b-44c8-9de5-ed77e46421b6",
   "metadata": {},
   "outputs": [],
   "source": [
    "df.loc[77:,'Species']"
   ]
  },
  {
   "cell_type": "code",
   "execution_count": null,
   "id": "b4bd5230-ae56-4a2d-83fa-2adcedc76ac2",
   "metadata": {},
   "outputs": [],
   "source": [
    "df.loc[77:,['Species','PetalLengthCm']]"
   ]
  },
  {
   "cell_type": "code",
   "execution_count": null,
   "id": "83a0c42c-bc1a-4ba2-8e08-40538c962b9c",
   "metadata": {},
   "outputs": [],
   "source": [
    "df.loc[77:,['Species','SepalLengthCm','SepalWidthCm','PetalLengthCm','PetalWidthCm','Species']]"
   ]
  },
  {
   "cell_type": "code",
   "execution_count": null,
   "id": "2fb3ff01-dbbb-4560-abcc-abb2538e7599",
   "metadata": {},
   "outputs": [],
   "source": [
    "df.iloc[77:,2:4]"
   ]
  },
  {
   "cell_type": "code",
   "execution_count": null,
   "id": "d3b61e5b-1635-440a-80bb-52efaad2f315",
   "metadata": {},
   "outputs": [],
   "source": [
    "df"
   ]
  },
  {
   "cell_type": "code",
   "execution_count": null,
   "id": "21f151f7-1a65-404b-85c2-32bc2e168e5a",
   "metadata": {},
   "outputs": [],
   "source": [
    "df.rename(columns={'Company':'MNC'},inplace = True)"
   ]
  },
  {
   "cell_type": "code",
   "execution_count": null,
   "id": "be3e8aee-2290-4635-98b3-73639b13dc7c",
   "metadata": {
    "scrolled": true
   },
   "outputs": [],
   "source": [
    "df.isnull().sum()"
   ]
  },
  {
   "cell_type": "code",
   "execution_count": null,
   "id": "d0c05d19-ca88-42fa-906d-c97a43bbc7ad",
   "metadata": {},
   "outputs": [],
   "source": [
    "df['Role'].count()"
   ]
  },
  {
   "cell_type": "code",
   "execution_count": null,
   "id": "44e05351-c879-4236-a7c5-fbd93f447587",
   "metadata": {},
   "outputs": [],
   "source": [
    "ee=df.dropna()"
   ]
  },
  {
   "cell_type": "code",
   "execution_count": null,
   "id": "d4077b2d-9438-4d64-bc73-cee2b27da1c7",
   "metadata": {},
   "outputs": [],
   "source": [
    "ee.shape"
   ]
  },
  {
   "cell_type": "code",
   "execution_count": null,
   "id": "72347a4c-a7bc-46d6-8493-f7c1e38e201e",
   "metadata": {},
   "outputs": [],
   "source": [
    "df.shape"
   ]
  }
 ],
 "metadata": {
  "kernelspec": {
   "display_name": "Python 3 (ipykernel)",
   "language": "python",
   "name": "python3"
  },
  "language_info": {
   "codemirror_mode": {
    "name": "ipython",
    "version": 3
   },
   "file_extension": ".py",
   "mimetype": "text/x-python",
   "name": "python",
   "nbconvert_exporter": "python",
   "pygments_lexer": "ipython3",
   "version": "3.11.7"
  }
 },
 "nbformat": 4,
 "nbformat_minor": 5
}
